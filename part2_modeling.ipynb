{
 "cells": [
  {
   "cell_type": "markdown",
   "metadata": {},
   "source": [
    "# Part 2: Time Series Modeling\n",
    "\n",
    "In this notebook, you will implement functions to extract features from time series data and build ARIMA models."
   ]
  },
  {
   "cell_type": "code",
   "execution_count": null,
   "metadata": {},
   "outputs": [],
   "source": [
    "import numpy as np\n",
    "import pandas as pd\n",
    "import matplotlib.pyplot as plt\n",
    "import seaborn as sns\n",
    "from statsmodels.tsa.arima.model import ARIMA\n",
    "from pathlib import Path\n",
    "import os"
   ]
  },
  {
   "cell_type": "markdown",
   "metadata": {},
   "source": [
    "## 1. Feature Extraction\n",
    "\n",
    "Implement the `extract_time_series_features` function to calculate rolling window features."
   ]
  },
  {
   "cell_type": "code",
   "execution_count": null,
   "metadata": {},
   "outputs": [],
   "source": [
    "import pandas as pd\n",
    "\n",
    "def extract_time_series_features(data, window_size=60):\n",
    "    \"\"\"Extract rolling window features from time series data.\n",
    "    \n",
    "    Parameters\n",
    "    ----------\n",
    "    data : pd.DataFrame\n",
    "        Preprocessed physiological data\n",
    "    window_size : int\n",
    "        Size of the rolling window in seconds\n",
    "        \n",
    "    Returns\n",
    "    -------\n",
    "    pd.DataFrame\n",
    "        DataFrame containing extracted features for each signal\n",
    "    \"\"\"\n",
    "    data = data.set_index('timestamp')\n",
    "    data = data.sort_index()\n",
    "\n",
    "    ts_name = ['heart_rate', 'eda', 'temperature']\n",
    "    rolling = pd.DataFrame()\n",
    "    \n",
    "    for ts in ts_name:\n",
    "        rolling0 = data[ts].rolling(window=window_size)\n",
    "        rolling[f'{ts}_mean'] = rolling0.mean()\n",
    "        rolling[f'{ts}_std'] = rolling0.std()\n",
    "        rolling[f'{ts}_min'] = rolling0.min()\n",
    "        rolling[f'{ts}_max'] = rolling0.max()\n",
    "        \n",
    "        # Calculate autocorrelation\n",
    "        def autocorr(x):\n",
    "            return x.autocorr(lag=1)\n",
    "        rolling[f'{ts}_autocorr1'] = rolling0.apply(autocorr)\n",
    "    \n",
    "    feature_df = rolling.dropna()\n",
    "    feature_df = feature_df.reset_index()\n",
    "    return feature_df"
   ]
  },
  {
   "cell_type": "markdown",
   "metadata": {},
   "source": [
    "## 2. ARIMA Modeling\n",
    "\n",
    "Implement the `build_arima_model` function to fit ARIMA models and generate diagnostic plots."
   ]
  },
  {
   "cell_type": "code",
   "execution_count": null,
   "metadata": {},
   "outputs": [],
   "source": [
    "import numpy as np\n",
    "import pandas as pd\n",
    "import matplotlib.pyplot as plt\n",
    "import seaborn as sns\n",
    "from statsmodels.tsa.arima.model import ARIMA  # ARIMA from statsmodels.tsa.arima.model\n",
    "from pathlib import Path\n",
    "import os\n",
    "\n",
    "def build_arima_model(series, order=(1,1,1), output_dir='plots'):\n",
    "    \"\"\"Fit an ARIMA model to the time series and generate diagnostic plots.\n",
    "    \n",
    "    Parameters\n",
    "    ----------\n",
    "    series : pd.Series\n",
    "        Time series data to model\n",
    "    order : tuple\n",
    "        (p,d,q) order of the ARIMA model\n",
    "    output_dir : str\n",
    "        Directory to save diagnostic plots\n",
    "        \n",
    "    Returns\n",
    "    -------\n",
    "    statsmodels.tsa.arima.model.ARIMAResults\n",
    "        Fitted ARIMA model\n",
    "    \"\"\"\n",
    "    # Create output directory if it doesn't exist\n",
    "    os.makedirs(output_dir, exist_ok=True)\n",
    "    \n",
    "    # Fit ARIMA model\n",
    "    model = ARIMA(series, order=order)\n",
    "    model_fit = model.fit()\n",
    "    \n",
    "    print(model_fit.summary())\n",
    "    \n",
    "    # Generate diagnostic plots:\n",
    "    # Model fit plot\n",
    "    plt.figure(figsize=(12, 8))\n",
    "    plt.subplot(211)\n",
    "    plt.plot(series, label='Observed')\n",
    "    plt.plot(model_fit.fittedvalues, color='red', label='Fitted')\n",
    "    plt.title('ARIMA Model Fit')\n",
    "    plt.legend()\n",
    "    plt.savefig(os.path.join(output_dir, 'arima_model_fit.png'))\n",
    "    plt.close()\n",
    "    \n",
    "    # Residuals plot\n",
    "    plt.figure(figsize=(12, 8))\n",
    "    plt.subplot(212)\n",
    "    plt.plot(model_fit.resid, label='Residuals')\n",
    "    plt.title('Residuals of ARIMA Model')\n",
    "    plt.legend()\n",
    "    plt.savefig(os.path.join(output_dir, 'arima_residuals.png'))\n",
    "    plt.close()\n",
    "    \n",
    "    # Forecast plot\n",
    "    forecast = model_fit.get_forecast(steps=30)\n",
    "    forecast_index = pd.date_range(start=series.index[-1], periods=30, freq='S')\n",
    "    forecast_series = pd.Series(forecast.predicted_mean, index=forecast_index)\n",
    "    plt.figure(figsize=(12, 8))\n",
    "    plt.plot(series, label='Observed')\n",
    "    plt.plot(forecast_series, color='red', label='Forecast')\n",
    "    plt.fill_between(forecast_index, forecast.conf_int().iloc[:, 0], forecast.conf_int().iloc[:, 1], color='pink', alpha=0.5)\n",
    "    plt.title('ARIMA Forecast')\n",
    "    plt.legend()\n",
    "    plt.savefig(os.path.join(output_dir, 'arima_forecast.png'))\n",
    "    plt.close()\n",
    "\n",
    "    return model\n"
   ]
  }
 ],
 "metadata": {
  "kernelspec": {
   "display_name": "Python 3",
   "language": "python",
   "name": "python3"
  },
  "language_info": {
   "codemirror_mode": {
    "name": "ipython",
    "version": 3
   },
   "file_extension": ".py",
   "mimetype": "text/x-python",
   "name": "python",
   "nbconvert_exporter": "python",
   "pygments_lexer": "ipython3",
   "version": "3.12.1"
  }
 },
 "nbformat": 4,
 "nbformat_minor": 4
}
